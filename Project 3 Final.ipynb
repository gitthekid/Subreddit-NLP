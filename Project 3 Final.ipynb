{
 "cells": [
  {
   "cell_type": "code",
   "execution_count": 1,
   "metadata": {},
   "outputs": [],
   "source": [
    "import pandas as pd\n",
    "import datetime as dt\n",
    "import time\n",
    "import requests\n",
    "from nltk.tokenize import sent_tokenize, word_tokenize, RegexpTokenizer\n",
    "from nltk.stem import WordNetLemmatizer\n",
    "from nltk.stem.porter import PorterStemmer\n",
    "from nltk.corpus import stopwords\n",
    "from nltk.sentiment.vader import SentimentIntensityAnalyzer\n",
    "import re  \n",
    "from sklearn.feature_extraction.text import CountVectorizer, TfidfVectorizer\n",
    "from sklearn.model_selection import train_test_split, cross_val_score,  GridSearchCV \n",
    "from sklearn.preprocessing import StandardScaler, PolynomialFeatures\n",
    "from sklearn import metrics \n",
    "from sklearn.linear_model import LogisticRegression, LogisticRegressionCV\n",
    "from sklearn.linear_model import LinearRegression\n",
    "from sklearn.linear_model import Ridge\n",
    "from sklearn.linear_model import RidgeCV\n",
    "from sklearn.linear_model import Lasso, LassoCV\n",
    "from sklearn.datasets import make_classification\n",
    "from sklearn.neighbors import KNeighborsClassifier\n",
    "from sklearn.pipeline import Pipeline\n",
    "from sklearn.metrics import confusion_matrix, plot_confusion_matrix, accuracy_score, plot_roc_curve, roc_auc_score, recall_score, precision_score, f1_score\n",
    "from sklearn.naive_bayes import MultinomialNB\n",
    "from sklearn.ensemble import RandomForestClassifier, ExtraTreesClassifier, BaggingClassifier, GradientBoostingClassifier, AdaBoostClassifier, VotingClassifier\n",
    "from sklearn.tree import DecisionTreeClassifier"
   ]
  },
  {
   "cell_type": "markdown",
   "metadata": {},
   "source": [
    "Problem Statement:\n",
    "\n",
    "Can we develop a machine learning model that can predict, using Natural Language Processing, what subreddit a post originated from, given two similar options: the EDM subreddit, and the HipHopHeads subreddit.\n",
    "Both subreddits are centered around contemporary music genres, and I am interested to see how effectively a model can distinguish between two subreddits this similar.\n"
   ]
  },
  {
   "cell_type": "code",
   "execution_count": 2,
   "metadata": {},
   "outputs": [],
   "source": [
    "url = 'https://api.pushshift.io/reddit/search/submission'"
   ]
  },
  {
   "cell_type": "code",
   "execution_count": 3,
   "metadata": {},
   "outputs": [],
   "source": [
    "params = {\n",
    "    'subreddit': 'hiphopheads',\n",
    "    'size': 500\n",
    "}"
   ]
  },
  {
   "cell_type": "code",
   "execution_count": 4,
   "metadata": {},
   "outputs": [],
   "source": [
    "res = requests.get(url, params)"
   ]
  },
  {
   "cell_type": "code",
   "execution_count": 5,
   "metadata": {},
   "outputs": [
    {
     "data": {
      "text/plain": [
       "200"
      ]
     },
     "execution_count": 5,
     "metadata": {},
     "output_type": "execute_result"
    }
   ],
   "source": [
    "res.status_code"
   ]
  },
  {
   "cell_type": "markdown",
   "metadata": {},
   "source": [
    "In above code, I imported the push shift api, and checked with res.status_code to make sure it was successfully imported. "
   ]
  },
  {
   "cell_type": "code",
   "execution_count": 6,
   "metadata": {},
   "outputs": [],
   "source": [
    "def query_pushshift(subreddit, kind = 'submission', day_window = 7, n = 520):\n",
    "    SUBFIELDS = ['title', 'selftext', 'subreddit', 'created_utc', 'author', 'num_comments', 'score', 'is_self']\n",
    "    \n",
    "    # establish base url and stem\n",
    "    BASE_URL = f\"https://api.pushshift.io/reddit/search/{kind}\" # also known as the \"API endpoint\" \n",
    "    stem = f\"{BASE_URL}?subreddit={subreddit}&size=500\" # always pulling max of 500\n",
    "    \n",
    "    # instantiate empty list for temp storage\n",
    "    posts = [] \n",
    "    \n",
    "    # implement for loop with `time.sleep(2)`\n",
    "    for i in range(1, n + 1):\n",
    "        URL = \"{}&after={}d\".format(stem, day_window * i)\n",
    "        print(\"Querying from: \" + URL)\n",
    "        response = requests.get(URL)\n",
    "        assert response.status_code == 200\n",
    "        mine = response.json()['data']\n",
    "        df = pd.DataFrame.from_dict(mine)\n",
    "        posts.append(df)\n",
    "        time.sleep(2)\n",
    "    \n",
    "    # pd.concat storage list\n",
    "    full = pd.concat(posts, sort=False)\n",
    "    \n",
    "    # if submission\n",
    "    if kind == \"submission\":\n",
    "        # select desired columns\n",
    "        full = full[SUBFIELDS]\n",
    "        # drop duplicates\n",
    "        full.drop_duplicates(inplace = True)\n",
    "        # select `is_self` == True\n",
    "        full = full.loc[full['is_self'] == True]\n",
    "\n",
    "    # create `timestamp` column\n",
    "    full['timestamp'] = full[\"created_utc\"].map(dt.date.fromtimestamp)\n",
    "    \n",
    "    print(\"Query Complete!\")    \n",
    "    return full.reset_index(drop=True)\n",
    "\n",
    "results = query_pushshift('hiphopheads')"
   ]
  },
  {
   "cell_type": "code",
   "execution_count": 7,
   "metadata": {},
   "outputs": [],
   "source": [
    "results.head(50)"
   ]
  },
  {
   "cell_type": "code",
   "execution_count": 8,
   "metadata": {},
   "outputs": [],
   "source": [
    "results.shape"
   ]
  },
  {
   "cell_type": "code",
   "execution_count": 9,
   "metadata": {},
   "outputs": [],
   "source": [
    "resultshiphopheads = results"
   ]
  },
  {
   "cell_type": "markdown",
   "metadata": {},
   "source": [
    "I ran a function to scrape reddit.com/r/hiphopheads and was able to collect about 11,000 comments."
   ]
  },
  {
   "cell_type": "code",
   "execution_count": 10,
   "metadata": {},
   "outputs": [],
   "source": [
    "resultsedm = query_pushshift('EDM')"
   ]
  },
  {
   "cell_type": "code",
   "execution_count": 11,
   "metadata": {},
   "outputs": [],
   "source": [
    "resultsedm.shape"
   ]
  },
  {
   "cell_type": "markdown",
   "metadata": {},
   "source": [
    "I ran a function to scrape reddit.com/r/EDM and collected a similar amount of comments to hiphopheads, about 11,000."
   ]
  },
  {
   "cell_type": "code",
   "execution_count": 12,
   "metadata": {},
   "outputs": [],
   "source": [
    "resultsedm.to_csv('EDM.csv')"
   ]
  },
  {
   "cell_type": "code",
   "execution_count": 13,
   "metadata": {},
   "outputs": [],
   "source": [
    "resultshiphopheads.to_csv('HipHopHeads.csv')"
   ]
  },
  {
   "cell_type": "markdown",
   "metadata": {},
   "source": [
    "Here I save these dataframes to CSV so that if I were to close out this jupyter notebook, I would not have to rerun the scraping function to get these dataframes."
   ]
  },
  {
   "cell_type": "code",
   "execution_count": 14,
   "metadata": {},
   "outputs": [],
   "source": [
    "resultsedm = pd.read_csv('./EDM.csv')\n",
    "resultshiphopheads = pd.read_csv('./HipHopHeads.csv')"
   ]
  },
  {
   "cell_type": "markdown",
   "metadata": {},
   "source": [
    "DATA CLEANING AND EDA"
   ]
  },
  {
   "cell_type": "code",
   "execution_count": 15,
   "metadata": {},
   "outputs": [
    {
     "data": {
      "text/plain": [
       "Unnamed: 0         0\n",
       "title              0\n",
       "selftext        1655\n",
       "subreddit          0\n",
       "created_utc        0\n",
       "author             0\n",
       "num_comments       0\n",
       "score              0\n",
       "is_self            0\n",
       "timestamp          0\n",
       "dtype: int64"
      ]
     },
     "execution_count": 15,
     "metadata": {},
     "output_type": "execute_result"
    }
   ],
   "source": [
    "resultshiphopheads.isnull().sum()"
   ]
  },
  {
   "cell_type": "code",
   "execution_count": 16,
   "metadata": {},
   "outputs": [],
   "source": [
    "dfhiphopheads = resultshiphopheads.dropna()"
   ]
  },
  {
   "cell_type": "code",
   "execution_count": 17,
   "metadata": {},
   "outputs": [
    {
     "data": {
      "text/plain": [
       "Unnamed: 0      0\n",
       "title           0\n",
       "selftext        0\n",
       "subreddit       0\n",
       "created_utc     0\n",
       "author          0\n",
       "num_comments    0\n",
       "score           0\n",
       "is_self         0\n",
       "timestamp       0\n",
       "dtype: int64"
      ]
     },
     "execution_count": 17,
     "metadata": {},
     "output_type": "execute_result"
    }
   ],
   "source": [
    "dfhiphopheads.isnull().sum()"
   ]
  },
  {
   "cell_type": "markdown",
   "metadata": {},
   "source": [
    "I check for null values in dfhiphopheads, and found only 60 null values in selftext. As such, I could most easily just drop these null values instead of filling them with something else, since I am left with still about 11,000 comments after dropping them."
   ]
  },
  {
   "cell_type": "code",
   "execution_count": 18,
   "metadata": {},
   "outputs": [
    {
     "data": {
      "text/plain": [
       "Unnamed: 0        0\n",
       "title             0\n",
       "selftext        764\n",
       "subreddit         0\n",
       "created_utc       0\n",
       "author            0\n",
       "num_comments      0\n",
       "score             0\n",
       "is_self           0\n",
       "timestamp         0\n",
       "dtype: int64"
      ]
     },
     "execution_count": 18,
     "metadata": {},
     "output_type": "execute_result"
    }
   ],
   "source": [
    "resultsedm.isnull().sum()"
   ]
  },
  {
   "cell_type": "code",
   "execution_count": 19,
   "metadata": {},
   "outputs": [],
   "source": [
    "dfedm = resultsedm.dropna()"
   ]
  },
  {
   "cell_type": "code",
   "execution_count": 20,
   "metadata": {},
   "outputs": [
    {
     "data": {
      "text/plain": [
       "Unnamed: 0      0\n",
       "title           0\n",
       "selftext        0\n",
       "subreddit       0\n",
       "created_utc     0\n",
       "author          0\n",
       "num_comments    0\n",
       "score           0\n",
       "is_self         0\n",
       "timestamp       0\n",
       "dtype: int64"
      ]
     },
     "execution_count": 20,
     "metadata": {},
     "output_type": "execute_result"
    }
   ],
   "source": [
    "dfedm.isnull().sum()"
   ]
  },
  {
   "cell_type": "markdown",
   "metadata": {},
   "source": [
    "I checked for null values in dfedm, and finding a similar result to dfhiphopheads, dropped the null values rather than fill them."
   ]
  },
  {
   "cell_type": "code",
   "execution_count": 21,
   "metadata": {},
   "outputs": [
    {
     "name": "stderr",
     "output_type": "stream",
     "text": [
      "<ipython-input-21-432e5122bd30>:1: SettingWithCopyWarning: \n",
      "A value is trying to be set on a copy of a slice from a DataFrame.\n",
      "Try using .loc[row_indexer,col_indexer] = value instead\n",
      "\n",
      "See the caveats in the documentation: https://pandas.pydata.org/pandas-docs/stable/user_guide/indexing.html#returning-a-view-versus-a-copy\n",
      "  dfedm['from edm subreddit'] = 1\n",
      "<ipython-input-21-432e5122bd30>:2: SettingWithCopyWarning: \n",
      "A value is trying to be set on a copy of a slice from a DataFrame.\n",
      "Try using .loc[row_indexer,col_indexer] = value instead\n",
      "\n",
      "See the caveats in the documentation: https://pandas.pydata.org/pandas-docs/stable/user_guide/indexing.html#returning-a-view-versus-a-copy\n",
      "  dfedm['from hiphopheads subreddit'] = 0\n"
     ]
    }
   ],
   "source": [
    "dfedm['from edm subreddit'] = 1\n",
    "dfedm['from hiphopheads subreddit'] = 0"
   ]
  },
  {
   "cell_type": "code",
   "execution_count": 22,
   "metadata": {},
   "outputs": [
    {
     "name": "stderr",
     "output_type": "stream",
     "text": [
      "<ipython-input-22-56cefcb66474>:1: SettingWithCopyWarning: \n",
      "A value is trying to be set on a copy of a slice from a DataFrame.\n",
      "Try using .loc[row_indexer,col_indexer] = value instead\n",
      "\n",
      "See the caveats in the documentation: https://pandas.pydata.org/pandas-docs/stable/user_guide/indexing.html#returning-a-view-versus-a-copy\n",
      "  dfhiphopheads['from edm subreddit'] = 0\n",
      "<ipython-input-22-56cefcb66474>:2: SettingWithCopyWarning: \n",
      "A value is trying to be set on a copy of a slice from a DataFrame.\n",
      "Try using .loc[row_indexer,col_indexer] = value instead\n",
      "\n",
      "See the caveats in the documentation: https://pandas.pydata.org/pandas-docs/stable/user_guide/indexing.html#returning-a-view-versus-a-copy\n",
      "  dfhiphopheads['from hiphopheads subreddit'] = 1\n"
     ]
    }
   ],
   "source": [
    "dfhiphopheads['from edm subreddit'] = 0\n",
    "dfhiphopheads['from hiphopheads subreddit'] = 1"
   ]
  },
  {
   "cell_type": "code",
   "execution_count": 23,
   "metadata": {},
   "outputs": [],
   "source": [
    "df = dfhiphopheads.append(dfedm)"
   ]
  },
  {
   "cell_type": "code",
   "execution_count": 24,
   "metadata": {},
   "outputs": [
    {
     "data": {
      "text/plain": [
       "(19698, 12)"
      ]
     },
     "execution_count": 24,
     "metadata": {},
     "output_type": "execute_result"
    }
   ],
   "source": [
    "df.shape"
   ]
  },
  {
   "cell_type": "markdown",
   "metadata": {},
   "source": [
    "I added 'from edm subreddit' and 'from hiphophead subreddit' columns and dummified these columns. I then appended the two dataframes to one larger dataframe. The columns I added identifies which subreddit tbe information comes from. Now that they are all in the same dataframe I can run a train-test split on them and create a model."
   ]
  },
  {
   "cell_type": "code",
   "execution_count": 25,
   "metadata": {
    "scrolled": true
   },
   "outputs": [
    {
     "data": {
      "text/html": [
       "<div>\n",
       "<style scoped>\n",
       "    .dataframe tbody tr th:only-of-type {\n",
       "        vertical-align: middle;\n",
       "    }\n",
       "\n",
       "    .dataframe tbody tr th {\n",
       "        vertical-align: top;\n",
       "    }\n",
       "\n",
       "    .dataframe thead th {\n",
       "        text-align: right;\n",
       "    }\n",
       "</style>\n",
       "<table border=\"1\" class=\"dataframe\">\n",
       "  <thead>\n",
       "    <tr style=\"text-align: right;\">\n",
       "      <th></th>\n",
       "      <th>Unnamed: 0</th>\n",
       "      <th>title</th>\n",
       "      <th>selftext</th>\n",
       "      <th>subreddit</th>\n",
       "      <th>created_utc</th>\n",
       "      <th>author</th>\n",
       "      <th>num_comments</th>\n",
       "      <th>score</th>\n",
       "      <th>is_self</th>\n",
       "      <th>timestamp</th>\n",
       "      <th>from edm subreddit</th>\n",
       "      <th>from hiphopheads subreddit</th>\n",
       "    </tr>\n",
       "  </thead>\n",
       "  <tbody>\n",
       "    <tr>\n",
       "      <th>0</th>\n",
       "      <td>0</td>\n",
       "      <td>Stuck not know the song... help me!!</td>\n",
       "      <td>[removed]</td>\n",
       "      <td>hiphopheads</td>\n",
       "      <td>1611118567</td>\n",
       "      <td>Bapeb2017</td>\n",
       "      <td>0</td>\n",
       "      <td>1</td>\n",
       "      <td>True</td>\n",
       "      <td>2021-01-19</td>\n",
       "      <td>0</td>\n",
       "      <td>1</td>\n",
       "    </tr>\n",
       "    <tr>\n",
       "      <th>1</th>\n",
       "      <td>1</td>\n",
       "      <td>Breaking: Trump has granted clemency to rapper...</td>\n",
       "      <td>Tweet mirror: https://imgur.com/a/WFNjJVA</td>\n",
       "      <td>hiphopheads</td>\n",
       "      <td>1611118844</td>\n",
       "      <td>halfmatthalfcat</td>\n",
       "      <td>0</td>\n",
       "      <td>1</td>\n",
       "      <td>True</td>\n",
       "      <td>2021-01-19</td>\n",
       "      <td>0</td>\n",
       "      <td>1</td>\n",
       "    </tr>\n",
       "    <tr>\n",
       "      <th>2</th>\n",
       "      <td>2</td>\n",
       "      <td>MF DOOM brief write up</td>\n",
       "      <td>Hey everyone! I've been spending my time latel...</td>\n",
       "      <td>hiphopheads</td>\n",
       "      <td>1611122645</td>\n",
       "      <td>kevvkevv</td>\n",
       "      <td>0</td>\n",
       "      <td>1</td>\n",
       "      <td>True</td>\n",
       "      <td>2021-01-19</td>\n",
       "      <td>0</td>\n",
       "      <td>1</td>\n",
       "    </tr>\n",
       "    <tr>\n",
       "      <th>3</th>\n",
       "      <td>3</td>\n",
       "      <td>Please comment my friend's song.</td>\n",
       "      <td>[removed]</td>\n",
       "      <td>hiphopheads</td>\n",
       "      <td>1611123689</td>\n",
       "      <td>Competitive_Frame_88</td>\n",
       "      <td>0</td>\n",
       "      <td>1</td>\n",
       "      <td>True</td>\n",
       "      <td>2021-01-19</td>\n",
       "      <td>0</td>\n",
       "      <td>1</td>\n",
       "    </tr>\n",
       "    <tr>\n",
       "      <th>4</th>\n",
       "      <td>4</td>\n",
       "      <td>Dr. Carter saves World from Covid</td>\n",
       "      <td>After President Trump pardoned Weezy. He promp...</td>\n",
       "      <td>hiphopheads</td>\n",
       "      <td>1611127115</td>\n",
       "      <td>Skinsfan221</td>\n",
       "      <td>2</td>\n",
       "      <td>1</td>\n",
       "      <td>True</td>\n",
       "      <td>2021-01-19</td>\n",
       "      <td>0</td>\n",
       "      <td>1</td>\n",
       "    </tr>\n",
       "    <tr>\n",
       "      <th>5</th>\n",
       "      <td>5</td>\n",
       "      <td>Kodak Black - First Day Out</td>\n",
       "      <td>https://youtu.be/QoRgUlKxZ8M</td>\n",
       "      <td>hiphopheads</td>\n",
       "      <td>1611129972</td>\n",
       "      <td>trythiswithme</td>\n",
       "      <td>0</td>\n",
       "      <td>1</td>\n",
       "      <td>True</td>\n",
       "      <td>2021-01-20</td>\n",
       "      <td>0</td>\n",
       "      <td>1</td>\n",
       "    </tr>\n",
       "    <tr>\n",
       "      <th>6</th>\n",
       "      <td>6</td>\n",
       "      <td>Eminem: Higher</td>\n",
       "      <td>[removed]</td>\n",
       "      <td>hiphopheads</td>\n",
       "      <td>1611130962</td>\n",
       "      <td>Amaya_8_8_8_Ocean</td>\n",
       "      <td>0</td>\n",
       "      <td>1</td>\n",
       "      <td>True</td>\n",
       "      <td>2021-01-20</td>\n",
       "      <td>0</td>\n",
       "      <td>1</td>\n",
       "    </tr>\n",
       "    <tr>\n",
       "      <th>7</th>\n",
       "      <td>7</td>\n",
       "      <td>Kodak and Lil Wayne’s Lawyer (Bradford Cohen) ...</td>\n",
       "      <td>From a legal perspective, Kodak and Lil Wayne ...</td>\n",
       "      <td>hiphopheads</td>\n",
       "      <td>1611131523</td>\n",
       "      <td>Latrell-Sprewell</td>\n",
       "      <td>4</td>\n",
       "      <td>1</td>\n",
       "      <td>True</td>\n",
       "      <td>2021-01-20</td>\n",
       "      <td>0</td>\n",
       "      <td>1</td>\n",
       "    </tr>\n",
       "    <tr>\n",
       "      <th>8</th>\n",
       "      <td>8</td>\n",
       "      <td>groovy song, new sound in my opinion :)</td>\n",
       "      <td>[removed]</td>\n",
       "      <td>hiphopheads</td>\n",
       "      <td>1611131738</td>\n",
       "      <td>onlyguyouthere</td>\n",
       "      <td>0</td>\n",
       "      <td>1</td>\n",
       "      <td>True</td>\n",
       "      <td>2021-01-20</td>\n",
       "      <td>0</td>\n",
       "      <td>1</td>\n",
       "    </tr>\n",
       "    <tr>\n",
       "      <th>9</th>\n",
       "      <td>9</td>\n",
       "      <td>Rate Eminem Albums!</td>\n",
       "      <td>My ratings:\\n\\nInfinite:6/10\\n\\nSSLP:8.5/10\\n\\...</td>\n",
       "      <td>hiphopheads</td>\n",
       "      <td>1611133705</td>\n",
       "      <td>amhaka84</td>\n",
       "      <td>4</td>\n",
       "      <td>1</td>\n",
       "      <td>True</td>\n",
       "      <td>2021-01-20</td>\n",
       "      <td>0</td>\n",
       "      <td>1</td>\n",
       "    </tr>\n",
       "    <tr>\n",
       "      <th>10</th>\n",
       "      <td>10</td>\n",
       "      <td>Rapper Baby CEO has passed away. He was 14 yea...</td>\n",
       "      <td>https://twitter.com/ceobudgang/status/13518014...</td>\n",
       "      <td>hiphopheads</td>\n",
       "      <td>1611134867</td>\n",
       "      <td>lssue</td>\n",
       "      <td>3</td>\n",
       "      <td>1</td>\n",
       "      <td>True</td>\n",
       "      <td>2021-01-20</td>\n",
       "      <td>0</td>\n",
       "      <td>1</td>\n",
       "    </tr>\n",
       "    <tr>\n",
       "      <th>11</th>\n",
       "      <td>11</td>\n",
       "      <td>MY Top 10</td>\n",
       "      <td>[removed]</td>\n",
       "      <td>hiphopheads</td>\n",
       "      <td>1611135477</td>\n",
       "      <td>BlocBoyJp14</td>\n",
       "      <td>0</td>\n",
       "      <td>1</td>\n",
       "      <td>True</td>\n",
       "      <td>2021-01-20</td>\n",
       "      <td>0</td>\n",
       "      <td>1</td>\n",
       "    </tr>\n",
       "    <tr>\n",
       "      <th>12</th>\n",
       "      <td>12</td>\n",
       "      <td>2020/2021 Hip-Hop Mixtapes</td>\n",
       "      <td>[removed]</td>\n",
       "      <td>hiphopheads</td>\n",
       "      <td>1611141604</td>\n",
       "      <td>hiphopontop</td>\n",
       "      <td>0</td>\n",
       "      <td>1</td>\n",
       "      <td>True</td>\n",
       "      <td>2021-01-20</td>\n",
       "      <td>0</td>\n",
       "      <td>1</td>\n",
       "    </tr>\n",
       "    <tr>\n",
       "      <th>13</th>\n",
       "      <td>13</td>\n",
       "      <td>Memphis rapper Baby CEO has reportedly passed ...</td>\n",
       "      <td>Source:\\n\\nhttps://www.latestnewssouthafrica.c...</td>\n",
       "      <td>hiphopheads</td>\n",
       "      <td>1611142282</td>\n",
       "      <td>shawn_tai</td>\n",
       "      <td>3</td>\n",
       "      <td>1</td>\n",
       "      <td>True</td>\n",
       "      <td>2021-01-20</td>\n",
       "      <td>0</td>\n",
       "      <td>1</td>\n",
       "    </tr>\n",
       "    <tr>\n",
       "      <th>14</th>\n",
       "      <td>14</td>\n",
       "      <td>Memphis rapper Big CEO aka Baby CEO has passed...</td>\n",
       "      <td>GIP BIG CEO - Jonathan Brown (10/22/00-1/19/21...</td>\n",
       "      <td>hiphopheads</td>\n",
       "      <td>1611142515</td>\n",
       "      <td>joshrkc</td>\n",
       "      <td>41</td>\n",
       "      <td>1</td>\n",
       "      <td>True</td>\n",
       "      <td>2021-01-20</td>\n",
       "      <td>0</td>\n",
       "      <td>1</td>\n",
       "    </tr>\n",
       "    <tr>\n",
       "      <th>15</th>\n",
       "      <td>15</td>\n",
       "      <td>What’s your go to song to make you feel invinc...</td>\n",
       "      <td>Looking for a playlist for the gym / mood pick...</td>\n",
       "      <td>hiphopheads</td>\n",
       "      <td>1611143825</td>\n",
       "      <td>GlassCoyote</td>\n",
       "      <td>11</td>\n",
       "      <td>1</td>\n",
       "      <td>True</td>\n",
       "      <td>2021-01-20</td>\n",
       "      <td>0</td>\n",
       "      <td>1</td>\n",
       "    </tr>\n",
       "    <tr>\n",
       "      <th>16</th>\n",
       "      <td>16</td>\n",
       "      <td>Most overrated rappers you can’t get your head...</td>\n",
       "      <td>For me it’s Lil Baby and Polo G. Admittedly Li...</td>\n",
       "      <td>hiphopheads</td>\n",
       "      <td>1611144805</td>\n",
       "      <td>KakaInMyBum</td>\n",
       "      <td>12</td>\n",
       "      <td>1</td>\n",
       "      <td>True</td>\n",
       "      <td>2021-01-20</td>\n",
       "      <td>0</td>\n",
       "      <td>1</td>\n",
       "    </tr>\n",
       "    <tr>\n",
       "      <th>17</th>\n",
       "      <td>17</td>\n",
       "      <td>Album of the Year Writeup #27:Pop Smoke - Shoo...</td>\n",
       "      <td>**Intro**\\n\\nThe Brooklyn-born rapper, by birt...</td>\n",
       "      <td>hiphopheads</td>\n",
       "      <td>1611147962</td>\n",
       "      <td>Nonstopas</td>\n",
       "      <td>38</td>\n",
       "      <td>1</td>\n",
       "      <td>True</td>\n",
       "      <td>2021-01-20</td>\n",
       "      <td>0</td>\n",
       "      <td>1</td>\n",
       "    </tr>\n",
       "    <tr>\n",
       "      <th>18</th>\n",
       "      <td>18</td>\n",
       "      <td>New Soundcloud pop emo kid?</td>\n",
       "      <td>[removed]</td>\n",
       "      <td>hiphopheads</td>\n",
       "      <td>1610513705</td>\n",
       "      <td>g_of_all</td>\n",
       "      <td>0</td>\n",
       "      <td>1</td>\n",
       "      <td>True</td>\n",
       "      <td>2021-01-12</td>\n",
       "      <td>0</td>\n",
       "      <td>1</td>\n",
       "    </tr>\n",
       "    <tr>\n",
       "      <th>19</th>\n",
       "      <td>19</td>\n",
       "      <td>EXCLUSIVE EMINEM NEWS/LEAKS</td>\n",
       "      <td>Hey I just wanted to let you know I did a pod...</td>\n",
       "      <td>hiphopheads</td>\n",
       "      <td>1610516392</td>\n",
       "      <td>jackfknwalter</td>\n",
       "      <td>2</td>\n",
       "      <td>1</td>\n",
       "      <td>True</td>\n",
       "      <td>2021-01-12</td>\n",
       "      <td>0</td>\n",
       "      <td>1</td>\n",
       "    </tr>\n",
       "  </tbody>\n",
       "</table>\n",
       "</div>"
      ],
      "text/plain": [
       "    Unnamed: 0                                              title  \\\n",
       "0            0               Stuck not know the song... help me!!   \n",
       "1            1  Breaking: Trump has granted clemency to rapper...   \n",
       "2            2                             MF DOOM brief write up   \n",
       "3            3                   Please comment my friend's song.   \n",
       "4            4                  Dr. Carter saves World from Covid   \n",
       "5            5                        Kodak Black - First Day Out   \n",
       "6            6                                     Eminem: Higher   \n",
       "7            7  Kodak and Lil Wayne’s Lawyer (Bradford Cohen) ...   \n",
       "8            8            groovy song, new sound in my opinion :)   \n",
       "9            9                                Rate Eminem Albums!   \n",
       "10          10  Rapper Baby CEO has passed away. He was 14 yea...   \n",
       "11          11                                          MY Top 10   \n",
       "12          12                         2020/2021 Hip-Hop Mixtapes   \n",
       "13          13  Memphis rapper Baby CEO has reportedly passed ...   \n",
       "14          14  Memphis rapper Big CEO aka Baby CEO has passed...   \n",
       "15          15  What’s your go to song to make you feel invinc...   \n",
       "16          16  Most overrated rappers you can’t get your head...   \n",
       "17          17  Album of the Year Writeup #27:Pop Smoke - Shoo...   \n",
       "18          18                        New Soundcloud pop emo kid?   \n",
       "19          19                        EXCLUSIVE EMINEM NEWS/LEAKS   \n",
       "\n",
       "                                             selftext    subreddit  \\\n",
       "0                                           [removed]  hiphopheads   \n",
       "1           Tweet mirror: https://imgur.com/a/WFNjJVA  hiphopheads   \n",
       "2   Hey everyone! I've been spending my time latel...  hiphopheads   \n",
       "3                                           [removed]  hiphopheads   \n",
       "4   After President Trump pardoned Weezy. He promp...  hiphopheads   \n",
       "5                        https://youtu.be/QoRgUlKxZ8M  hiphopheads   \n",
       "6                                           [removed]  hiphopheads   \n",
       "7   From a legal perspective, Kodak and Lil Wayne ...  hiphopheads   \n",
       "8                                           [removed]  hiphopheads   \n",
       "9   My ratings:\\n\\nInfinite:6/10\\n\\nSSLP:8.5/10\\n\\...  hiphopheads   \n",
       "10  https://twitter.com/ceobudgang/status/13518014...  hiphopheads   \n",
       "11                                          [removed]  hiphopheads   \n",
       "12                                          [removed]  hiphopheads   \n",
       "13  Source:\\n\\nhttps://www.latestnewssouthafrica.c...  hiphopheads   \n",
       "14  GIP BIG CEO - Jonathan Brown (10/22/00-1/19/21...  hiphopheads   \n",
       "15  Looking for a playlist for the gym / mood pick...  hiphopheads   \n",
       "16  For me it’s Lil Baby and Polo G. Admittedly Li...  hiphopheads   \n",
       "17  **Intro**\\n\\nThe Brooklyn-born rapper, by birt...  hiphopheads   \n",
       "18                                          [removed]  hiphopheads   \n",
       "19   Hey I just wanted to let you know I did a pod...  hiphopheads   \n",
       "\n",
       "    created_utc                author  num_comments  score  is_self  \\\n",
       "0    1611118567             Bapeb2017             0      1     True   \n",
       "1    1611118844       halfmatthalfcat             0      1     True   \n",
       "2    1611122645              kevvkevv             0      1     True   \n",
       "3    1611123689  Competitive_Frame_88             0      1     True   \n",
       "4    1611127115           Skinsfan221             2      1     True   \n",
       "5    1611129972         trythiswithme             0      1     True   \n",
       "6    1611130962     Amaya_8_8_8_Ocean             0      1     True   \n",
       "7    1611131523      Latrell-Sprewell             4      1     True   \n",
       "8    1611131738        onlyguyouthere             0      1     True   \n",
       "9    1611133705              amhaka84             4      1     True   \n",
       "10   1611134867                 lssue             3      1     True   \n",
       "11   1611135477           BlocBoyJp14             0      1     True   \n",
       "12   1611141604           hiphopontop             0      1     True   \n",
       "13   1611142282             shawn_tai             3      1     True   \n",
       "14   1611142515               joshrkc            41      1     True   \n",
       "15   1611143825           GlassCoyote            11      1     True   \n",
       "16   1611144805           KakaInMyBum            12      1     True   \n",
       "17   1611147962             Nonstopas            38      1     True   \n",
       "18   1610513705              g_of_all             0      1     True   \n",
       "19   1610516392         jackfknwalter             2      1     True   \n",
       "\n",
       "     timestamp  from edm subreddit  from hiphopheads subreddit  \n",
       "0   2021-01-19                   0                           1  \n",
       "1   2021-01-19                   0                           1  \n",
       "2   2021-01-19                   0                           1  \n",
       "3   2021-01-19                   0                           1  \n",
       "4   2021-01-19                   0                           1  \n",
       "5   2021-01-20                   0                           1  \n",
       "6   2021-01-20                   0                           1  \n",
       "7   2021-01-20                   0                           1  \n",
       "8   2021-01-20                   0                           1  \n",
       "9   2021-01-20                   0                           1  \n",
       "10  2021-01-20                   0                           1  \n",
       "11  2021-01-20                   0                           1  \n",
       "12  2021-01-20                   0                           1  \n",
       "13  2021-01-20                   0                           1  \n",
       "14  2021-01-20                   0                           1  \n",
       "15  2021-01-20                   0                           1  \n",
       "16  2021-01-20                   0                           1  \n",
       "17  2021-01-20                   0                           1  \n",
       "18  2021-01-12                   0                           1  \n",
       "19  2021-01-12                   0                           1  "
      ]
     },
     "execution_count": 25,
     "metadata": {},
     "output_type": "execute_result"
    }
   ],
   "source": [
    "df.head(20)"
   ]
  },
  {
   "cell_type": "code",
   "execution_count": 26,
   "metadata": {},
   "outputs": [
    {
     "name": "stdout",
     "output_type": "stream",
     "text": [
      "4482\n",
      "2540\n",
      "1942\n"
     ]
    }
   ],
   "source": [
    "print(df[df.selftext == '[removed]'].shape[0])\n",
    "print(dfhiphopheads[dfhiphopheads.selftext == '[removed]'].shape[0])\n",
    "print(dfedm[dfedm.selftext == '[removed]'].shape[0])\n",
    "#https://stackoverflow.com/questions/35277075/python-pandas-counting-the-occurrences-of-a-specific-value"
   ]
  },
  {
   "cell_type": "markdown",
   "metadata": {},
   "source": [
    "I check how many times removed appears in the dataset, and it appears enough that I don't want to drop the rows with removed in it. Both subeddits have a similar amount of instance of removed, so I feel like it should not be too much of an issue for my model. I will instead, treat removed as a stop word in my count vectorizer."
   ]
  },
  {
   "cell_type": "code",
   "execution_count": 179,
   "metadata": {},
   "outputs": [
    {
     "name": "stderr",
     "output_type": "stream",
     "text": [
      "<ipython-input-179-04bbbbf0f57a>:2: SettingWithCopyWarning: \n",
      "A value is trying to be set on a copy of a slice from a DataFrame.\n",
      "Try using .loc[row_indexer,col_indexer] = value instead\n",
      "\n",
      "See the caveats in the documentation: https://pandas.pydata.org/pandas-docs/stable/user_guide/indexing.html#returning-a-view-versus-a-copy\n",
      "  dfhiphopheads['title and selftext'] = dfhiphopheads['title'] + dfhiphopheads['selftext']\n",
      "<ipython-input-179-04bbbbf0f57a>:3: SettingWithCopyWarning: \n",
      "A value is trying to be set on a copy of a slice from a DataFrame.\n",
      "Try using .loc[row_indexer,col_indexer] = value instead\n",
      "\n",
      "See the caveats in the documentation: https://pandas.pydata.org/pandas-docs/stable/user_guide/indexing.html#returning-a-view-versus-a-copy\n",
      "  dfedm['title and selftext'] = dfedm['title'] + dfedm['selftext']\n"
     ]
    }
   ],
   "source": [
    "df['title and selftext'] = df['title'] + df['selftext']\n",
    "dfhiphopheads['title and selftext'] = dfhiphopheads['title'] + dfhiphopheads['selftext']\n",
    "dfedm['title and selftext'] = dfedm['title'] + dfedm['selftext']"
   ]
  },
  {
   "cell_type": "markdown",
   "metadata": {},
   "source": [
    "I create a new column that concatenates the title and selftext columns, so I can CountVectorize on the values of both columns. This is necessary because CountVectorize only works on a single column."
   ]
  },
  {
   "cell_type": "code",
   "execution_count": 216,
   "metadata": {},
   "outputs": [],
   "source": [
    "X = df['title and selftext']\n",
    "y = df['from edm subreddit']"
   ]
  },
  {
   "cell_type": "code",
   "execution_count": 217,
   "metadata": {},
   "outputs": [],
   "source": [
    "X_train, X_test, y_train, y_test = train_test_split(X,\n",
    "                                                    y,\n",
    "                                                    stratify = y,\n",
    "                                                    random_state=42)"
   ]
  },
  {
   "cell_type": "code",
   "execution_count": 218,
   "metadata": {},
   "outputs": [],
   "source": [
    "my_words = ['com', 'www', 'https', 'http', 'removed']\n",
    "from sklearn.feature_extraction import text \n",
    "\n",
    "stop_words = text.ENGLISH_STOP_WORDS.union(my_words)"
   ]
  },
  {
   "cell_type": "code",
   "execution_count": 219,
   "metadata": {},
   "outputs": [],
   "source": [
    "cvec = CountVectorizer(stop_words = text.ENGLISH_STOP_WORDS.union(stop_words))"
   ]
  },
  {
   "cell_type": "code",
   "execution_count": 220,
   "metadata": {},
   "outputs": [],
   "source": [
    "X_train = cvec.fit_transform(X_train)"
   ]
  },
  {
   "cell_type": "code",
   "execution_count": 221,
   "metadata": {},
   "outputs": [
    {
     "data": {
      "text/plain": [
       "(14773, 46196)"
      ]
     },
     "execution_count": 221,
     "metadata": {},
     "output_type": "execute_result"
    }
   ],
   "source": [
    "X_train.shape"
   ]
  },
  {
   "cell_type": "code",
   "execution_count": 222,
   "metadata": {},
   "outputs": [],
   "source": [
    "X_test = cvec.transform(X_test)"
   ]
  },
  {
   "cell_type": "code",
   "execution_count": 223,
   "metadata": {
    "scrolled": true
   },
   "outputs": [
    {
     "data": {
      "image/png": "[encoded data removed]",
      "text/plain": [
       "<Figure size 432x288 with 1 Axes>"
      ]
     },
     "metadata": {
      "needs_background": "light"
     },
     "output_type": "display_data"
    }
   ],
   "source": [
    "# convert training data to dataframe\n",
    "X_train_df = pd.DataFrame(X_train.todense(), \n",
    "                          columns=cvec.get_feature_names())\n",
    "\n",
    "# plot top occuring words\n",
    "X_train_df.sum().sort_values(ascending=False).head(20).plot(kind='barh');"
   ]
  },
  {
   "cell_type": "markdown",
   "metadata": {},
   "source": [
    "I train test split, and fit my model, and then Count Vectorized X_train, to be able to see how often each word showed up in the title and selftext column. My count vectorizer function was acting up, returning a dataframe with the dimension [1,2]. So, I spent a while troubleshooting, and I realized it wouldn't work because I had put double brackets around my X_train when fitting the train test split."
   ]
  },
  {
   "cell_type": "code",
   "execution_count": 264,
   "metadata": {},
   "outputs": [
    {
     "data": {
      "text/plain": [
       "1    0.521018\n",
       "0    0.478982\n",
       "Name: from edm subreddit, dtype: float64"
      ]
     },
     "execution_count": 264,
     "metadata": {},
     "output_type": "execute_result"
    }
   ],
   "source": [
    "y_train.value_counts(normalize = True)"
   ]
  },
  {
   "cell_type": "markdown",
   "metadata": {},
   "source": [
    "Here I identify the null model. The classes seem to be more or less balanced, with .52 being from the edm subreddit, and .48 being from the hiphopheads subreddit. My model should outperform the null model."
   ]
  },
  {
   "cell_type": "code",
   "execution_count": 224,
   "metadata": {},
   "outputs": [],
   "source": [
    "X_train2, X_test2, y_train2, y_test2 = train_test_split(X,\n",
    "                                                    y,\n",
    "                                                    test_size=0.33,\n",
    "                                                    stratify=y,\n",
    "                                                    random_state=42)"
   ]
  },
  {
   "cell_type": "code",
   "execution_count": 225,
   "metadata": {},
   "outputs": [],
   "source": [
    "pipe = Pipeline([\n",
    "    ('cvec_2', CountVectorizer()),\n",
    "    ('nb', MultinomialNB())\n",
    "])"
   ]
  },
  {
   "cell_type": "code",
   "execution_count": 226,
   "metadata": {},
   "outputs": [],
   "source": [
    "pipe_params = {\n",
    "    'cvec_2__max_features': [500, 1000, 5000, 10000],\n",
    "    'cvec_2__min_df': [1, 2, 3],\n",
    "    'cvec_2__max_df': [5, 10],\n",
    "    'cvec_2__ngram_range': [(1,1), (1,2)]\n",
    "}"
   ]
  },
  {
   "cell_type": "code",
   "execution_count": 227,
   "metadata": {},
   "outputs": [],
   "source": [
    "bayes_model = GridSearchCV(pipe, \n",
    "                  param_grid=pipe_params, \n",
    "                  cv=5, verbose = 1)"
   ]
  },
  {
   "cell_type": "code",
   "execution_count": 228,
   "metadata": {
    "scrolled": true
   },
   "outputs": [
    {
     "name": "stdout",
     "output_type": "stream",
     "text": [
      "Fitting 5 folds for each of 48 candidates, totalling 240 fits\n"
     ]
    },
    {
     "name": "stderr",
     "output_type": "stream",
     "text": [
      "[Parallel(n_jobs=1)]: Using backend SequentialBackend with 1 concurrent workers.\n",
      "[Parallel(n_jobs=1)]: Done 240 out of 240 | elapsed:  4.7min finished\n"
     ]
    },
    {
     "data": {
      "text/plain": [
       "GridSearchCV(cv=5,\n",
       "             estimator=Pipeline(steps=[('cvec_2', CountVectorizer()),\n",
       "                                       ('nb', MultinomialNB())]),\n",
       "             param_grid={'cvec_2__max_df': [5, 10],\n",
       "                         'cvec_2__max_features': [500, 1000, 5000, 10000],\n",
       "                         'cvec_2__min_df': [1, 2, 3],\n",
       "                         'cvec_2__ngram_range': [(1, 1), (1, 2)]},\n",
       "             verbose=1)"
      ]
     },
     "execution_count": 228,
     "metadata": {},
     "output_type": "execute_result"
    }
   ],
   "source": [
    "bayes_model.fit(X_train2, y_train2)"
   ]
  },
  {
   "cell_type": "code",
   "execution_count": 230,
   "metadata": {},
   "outputs": [
    {
     "data": {
      "text/plain": [
       "(0.7854815488368568, 0.7034302415013075)"
      ]
     },
     "execution_count": 230,
     "metadata": {},
     "output_type": "execute_result"
    }
   ],
   "source": [
    "bayes_model.score(X_train2, y_train2), bayes_model.score(X_test2, y_test2)"
   ]
  },
  {
   "cell_type": "code",
   "execution_count": 232,
   "metadata": {},
   "outputs": [],
   "source": [
    "preds_bayes = bayes_model.predict(X_test2)"
   ]
  },
  {
   "cell_type": "code",
   "execution_count": 234,
   "metadata": {},
   "outputs": [],
   "source": [
    "tn, fp, fn, tp = confusion_matrix(y_test2, preds_bayes).ravel()"
   ]
  },
  {
   "cell_type": "code",
   "execution_count": 236,
   "metadata": {},
   "outputs": [
    {
     "data": {
      "image/png": "[encoded data removed]",
      "text/plain": [
       "<Figure size 432x288 with 2 Axes>"
      ]
     },
     "metadata": {
      "needs_background": "light"
     },
     "output_type": "display_data"
    }
   ],
   "source": [
    "plot_confusion_matrix(bayes_model, X_test2, y_test2, cmap='Blues', values_format='d');"
   ]
  },
  {
   "cell_type": "code",
   "execution_count": 239,
   "metadata": {},
   "outputs": [
    {
     "name": "stdout",
     "output_type": "stream",
     "text": [
      "Sensitivty  0.8435193386477708\n",
      "Specificity  0.5510597302504817\n",
      "Precision  0.6714453584018801\n",
      "Accuracy  0.7034302415013075\n",
      "              precision    recall  f1-score   support\n",
      "\n",
      "           0       0.76      0.55      0.64      3114\n",
      "           1       0.67      0.84      0.75      3387\n",
      "\n",
      "    accuracy                           0.70      6501\n",
      "   macro avg       0.72      0.70      0.69      6501\n",
      "weighted avg       0.72      0.70      0.70      6501\n",
      "\n"
     ]
    }
   ],
   "source": [
    "sensitivity = tp/(tp + fn)\n",
    "print('Sensitivty ', sensitivity)\n",
    "\n",
    "specificity = tn/(tn + fp)\n",
    "print('Specificity ', specificity)\n",
    "\n",
    "precision = tp/ (tp + fp)\n",
    "print('Precision ', precision)\n",
    "\n",
    "acc = (tn + tp) / (tn + fp + fn + tp)\n",
    "print('Accuracy ', acc)\n",
    "\n",
    "from sklearn.metrics import classification_report\n",
    "print(classification_report(y_test2, preds_bayes))"
   ]
  },
  {
   "cell_type": "markdown",
   "metadata": {},
   "source": [
    "Here I fit a bayes model on another X_train, as I count vectorized again when instantiating the pipeline. I ran a gridsearch on some hyperparameters, which I tweaked for a couple of times, and got an accuacy of 70%. The train score .78, and test score was .7, so there was not too much variance, and the bias of this model was medium."
   ]
  },
  {
   "cell_type": "code",
   "execution_count": 244,
   "metadata": {},
   "outputs": [],
   "source": [
    "bag_params = {\n",
    "    'n_estimators': [5, 20, 25, 30, 40],\n",
    "    'max_samples': [0.1, 0.2, 0.5, 0.75, 1],\n",
    "    'max_features': [1,2,3,5],\n",
    "    'bootstrap_features': [True, False]\n",
    "}"
   ]
  },
  {
   "cell_type": "code",
   "execution_count": 245,
   "metadata": {},
   "outputs": [
    {
     "name": "stdout",
     "output_type": "stream",
     "text": [
      "Fitting 5 folds for each of 200 candidates, totalling 1000 fits\n"
     ]
    },
    {
     "name": "stderr",
     "output_type": "stream",
     "text": [
      "[Parallel(n_jobs=-1)]: Using backend LokyBackend with 16 concurrent workers.\n",
      "[Parallel(n_jobs=-1)]: Done  18 tasks      | elapsed:    0.4s\n",
      "[Parallel(n_jobs=-1)]: Done 304 tasks      | elapsed:    4.8s\n",
      "[Parallel(n_jobs=-1)]: Done 804 tasks      | elapsed:   12.4s\n",
      "[Parallel(n_jobs=-1)]: Done 1000 out of 1000 | elapsed:   15.3s finished\n",
      "[Parallel(n_jobs=16)]: Using backend LokyBackend with 16 concurrent workers.\n",
      "[Parallel(n_jobs=16)]: Done   2 out of  16 | elapsed:    0.0s remaining:    0.2s\n",
      "[Parallel(n_jobs=16)]: Done  16 out of  16 | elapsed:    0.0s finished\n"
     ]
    },
    {
     "name": "stdout",
     "output_type": "stream",
     "text": [
      "0.5227103460047863\n"
     ]
    },
    {
     "data": {
      "text/plain": [
       "{'bootstrap_features': True,\n",
       " 'max_features': 5,\n",
       " 'max_samples': 0.5,\n",
       " 'n_estimators': 20}"
      ]
     },
     "execution_count": 245,
     "metadata": {},
     "output_type": "execute_result"
    }
   ],
   "source": [
    "gs_bag = GridSearchCV(bag, param_grid=bag_params, cv=5, n_jobs = -1, verbose = True)\n",
    "gs_bag.fit(X_train, y_train)\n",
    "print(gs_bag.best_score_)\n",
    "gs_bag.best_params_"
   ]
  },
  {
   "cell_type": "code",
   "execution_count": 246,
   "metadata": {},
   "outputs": [
    {
     "name": "stderr",
     "output_type": "stream",
     "text": [
      "[Parallel(n_jobs=16)]: Using backend LokyBackend with 16 concurrent workers.\n",
      "[Parallel(n_jobs=16)]: Done   2 out of  16 | elapsed:    0.0s remaining:    0.2s\n",
      "[Parallel(n_jobs=16)]: Done  16 out of  16 | elapsed:    0.0s finished\n",
      "[Parallel(n_jobs=16)]: Using backend LokyBackend with 16 concurrent workers.\n",
      "[Parallel(n_jobs=16)]: Done   2 out of  16 | elapsed:    0.0s remaining:    0.1s\n",
      "[Parallel(n_jobs=16)]: Done  16 out of  16 | elapsed:    0.0s finished\n"
     ]
    },
    {
     "data": {
      "text/plain": [
       "(0.5252826101671969, 0.5218274111675127)"
      ]
     },
     "execution_count": 246,
     "metadata": {},
     "output_type": "execute_result"
    }
   ],
   "source": [
    "gs_bag.score(X_train, y_train), gs_bag.score(X_test, y_test)"
   ]
  },
  {
   "cell_type": "code",
   "execution_count": 247,
   "metadata": {},
   "outputs": [
    {
     "name": "stderr",
     "output_type": "stream",
     "text": [
      "[Parallel(n_jobs=16)]: Using backend LokyBackend with 16 concurrent workers.\n",
      "[Parallel(n_jobs=16)]: Done   2 out of  16 | elapsed:    0.0s remaining:    0.1s\n",
      "[Parallel(n_jobs=16)]: Done  16 out of  16 | elapsed:    0.0s finished\n"
     ]
    }
   ],
   "source": [
    "preds_bag = gs_bag.predict(X_test)"
   ]
  },
  {
   "cell_type": "code",
   "execution_count": 248,
   "metadata": {},
   "outputs": [],
   "source": [
    "tn, fp, fn, tp = confusion_matrix(y_test, preds_bag).ravel()"
   ]
  },
  {
   "cell_type": "code",
   "execution_count": 249,
   "metadata": {},
   "outputs": [
    {
     "name": "stderr",
     "output_type": "stream",
     "text": [
      "[Parallel(n_jobs=16)]: Using backend LokyBackend with 16 concurrent workers.\n",
      "[Parallel(n_jobs=16)]: Done   2 out of  16 | elapsed:    0.0s remaining:    0.1s\n",
      "[Parallel(n_jobs=16)]: Done  16 out of  16 | elapsed:    0.0s finished\n"
     ]
    },
    {
     "data": {
      "image/png": "[encoded data removed]",
      "text/plain": [
       "<Figure size 432x288 with 2 Axes>"
      ]
     },
     "metadata": {
      "needs_background": "light"
     },
     "output_type": "display_data"
    }
   ],
   "source": [
    "plot_confusion_matrix(gs_bag, X_test, y_test, cmap='Blues', values_format='d');"
   ]
  },
  {
   "cell_type": "code",
   "execution_count": 251,
   "metadata": {},
   "outputs": [
    {
     "name": "stdout",
     "output_type": "stream",
     "text": [
      "Sensitivty  0.9988308651597818\n",
      "Specificity  0.002967359050445104\n",
      "Precision  0.5214649033570702\n",
      "Accuracy  0.5218274111675127\n",
      "              precision    recall  f1-score   support\n",
      "\n",
      "           0       0.70      0.00      0.01      2359\n",
      "           1       0.52      1.00      0.69      2566\n",
      "\n",
      "    accuracy                           0.52      4925\n",
      "   macro avg       0.61      0.50      0.35      4925\n",
      "weighted avg       0.61      0.52      0.36      4925\n",
      "\n"
     ]
    }
   ],
   "source": [
    "sensitivity = tp/(tp + fn)\n",
    "print('Sensitivty ', sensitivity)\n",
    "\n",
    "specificity = tn/(tn + fp)\n",
    "print('Specificity ', specificity)\n",
    "\n",
    "precision = tp/ (tp + fp)\n",
    "print('Precision ', precision)\n",
    "\n",
    "acc = (tn + tp) / (tn + fp + fn + tp)\n",
    "print('Accuracy ', acc)\n",
    "\n",
    "from sklearn.metrics import classification_report\n",
    "print(classification_report(y_test, preds_bag))"
   ]
  },
  {
   "cell_type": "markdown",
   "metadata": {},
   "source": [
    "I decided to run a few more models to try and improve my Naive Bayes Model's score. Here I ran a bags model, where I gridsearched through hyperparamters, and still got a very horrible accuracy score of 0.52. The true positives (sensitivity) was near 100%, while the true negatives (specificity) was near 0%, which would seem to indicate a class imbalance, and the model predicting the majority class. However, the classes were not really that imbalanced, so I am not sure exactly what made the model go wrong. I adjusted hyperparameters a bit, but ended up moving onto another model after getting dismal results."
   ]
  },
  {
   "cell_type": "code",
   "execution_count": 256,
   "metadata": {},
   "outputs": [],
   "source": [
    "rf = RandomForestClassifier(random_state = 42)"
   ]
  },
  {
   "cell_type": "code",
   "execution_count": 257,
   "metadata": {},
   "outputs": [
    {
     "name": "stdout",
     "output_type": "stream",
     "text": [
      "Fitting 5 folds for each of 108 candidates, totalling 540 fits\n"
     ]
    },
    {
     "name": "stderr",
     "output_type": "stream",
     "text": [
      "[Parallel(n_jobs=-2)]: Using backend LokyBackend with 15 concurrent workers.\n",
      "[Parallel(n_jobs=-2)]: Done  20 tasks      | elapsed:    3.8s\n",
      "[Parallel(n_jobs=-2)]: Done 170 tasks      | elapsed:   16.3s\n",
      "[Parallel(n_jobs=-2)]: Done 420 tasks      | elapsed:   48.3s\n",
      "[Parallel(n_jobs=-2)]: Done 540 out of 540 | elapsed:  1.0min finished\n"
     ]
    },
    {
     "name": "stdout",
     "output_type": "stream",
     "text": [
      "0.668447704050947\n"
     ]
    },
    {
     "data": {
      "text/plain": [
       "{'max_depth': 5,\n",
       " 'max_features': 'auto',\n",
       " 'min_samples_leaf': 2,\n",
       " 'min_samples_split': 3,\n",
       " 'n_estimators': 100}"
      ]
     },
     "execution_count": 257,
     "metadata": {},
     "output_type": "execute_result"
    }
   ],
   "source": [
    "rf_params = {\n",
    "    'n_estimators': [100, 150, 200],\n",
    "    'max_depth': [3, 4, 5],\n",
    "    'min_samples_split': [3, 5, 7],\n",
    "    'min_samples_leaf': [2, 3],\n",
    "    'max_features': ['auto', 'log2']\n",
    "}\n",
    "gs_rf = GridSearchCV(rf, param_grid=rf_params, cv=5, n_jobs = -2, verbose = True)\n",
    "gs_rf.fit(X_train, y_train)\n",
    "print(gs_rf.best_score_)\n",
    "gs_rf.best_params_"
   ]
  },
  {
   "cell_type": "code",
   "execution_count": 259,
   "metadata": {},
   "outputs": [
    {
     "data": {
      "text/plain": [
       "(0.63710823800176, 0.6339086294416244)"
      ]
     },
     "execution_count": 259,
     "metadata": {},
     "output_type": "execute_result"
    }
   ],
   "source": [
    "gs_rf.score(X_train, y_train), gs_rf.score(X_test, y_test)"
   ]
  },
  {
   "cell_type": "code",
   "execution_count": 260,
   "metadata": {},
   "outputs": [
    {
     "data": {
      "image/png": "[encoded data removed]",
      "text/plain": [
       "<Figure size 432x288 with 2 Axes>"
      ]
     },
     "metadata": {
      "needs_background": "light"
     },
     "output_type": "display_data"
    }
   ],
   "source": [
    "preds_rf = gs_rf.predict(X_test)\n",
    "tn, fp, fn, tp = confusion_matrix(y_test, preds_rf).ravel()\n",
    "plot_confusion_matrix(gs_rf, X_test, y_test, cmap='Blues', values_format='d');"
   ]
  },
  {
   "cell_type": "code",
   "execution_count": 261,
   "metadata": {},
   "outputs": [
    {
     "name": "stdout",
     "output_type": "stream",
     "text": [
      "Sensitivty  0.9992205767731879\n",
      "Specificity  0.23654090716405257\n",
      "Precision  0.5873997709049256\n",
      "Accuracy  0.6339086294416244\n"
     ]
    }
   ],
   "source": [
    "sensitivity = tp/(tp + fn)\n",
    "print('Sensitivty ', sensitivity)\n",
    "\n",
    "specificity = tn/(tn + fp)\n",
    "print('Specificity ', specificity)\n",
    "\n",
    "precision = tp/ (tp + fp)\n",
    "print('Precision ', precision)\n",
    "\n",
    "acc = (tn + tp) / (tn + fp + fn + tp)\n",
    "print('Accuracy ', acc)\n"
   ]
  },
  {
   "cell_type": "markdown",
   "metadata": {},
   "source": [
    "The final model I ran was random forest classifier, gridsearched through hyperparameters, and iteratively tweaked them. The model returned an accuracy of 63%, a train score of .63 and a test score of .63, indicating the model was very low variance but high bias. It is better than the null model, but worse than the Bayes model."
   ]
  },
  {
   "cell_type": "markdown",
   "metadata": {},
   "source": [
    "CONCLUSION:\n",
    "My Naive Bayes model had a predictive accuracy of about 70%. This is statistically significant enough to say that we have created a model that can predict better than random chance, what subreddit a given post originated from.\n",
    "Given the highly correlated nature of the subreddits, this is not too bad. However, the model is still less effective than I would have liked. "
   ]
  },
  {
   "cell_type": "markdown",
   "metadata": {},
   "source": [
    "WAYS TO IMPROVE MY MODEL:\n",
    "To improve my model in the future I could:\n",
    "Lemmatize.\n",
    "Add more words to stop words, particularly those ones that are most shared between subreddits.\n",
    "Run more models, in particular voting classifier.\n",
    "Tinker with hyperparameters.\n",
    "Fit X_train on more features, including posting time."
   ]
  }
 ],
 "metadata": {
  "kernelspec": {
   "display_name": "Python 3",
   "language": "python",
   "name": "python3"
  },
  "language_info": {
   "codemirror_mode": {
    "name": "ipython",
    "version": 3
   },
   "file_extension": ".py",
   "mimetype": "text/x-python",
   "name": "python",
   "nbconvert_exporter": "python",
   "pygments_lexer": "ipython3",
   "version": "3.8.5"
  }
 },
 "nbformat": 4,
 "nbformat_minor": 4
}
